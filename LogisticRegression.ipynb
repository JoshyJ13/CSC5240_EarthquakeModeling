{
 "cells": [
  {
   "cell_type": "code",
   "execution_count": 16,
   "id": "910f9735",
   "metadata": {},
   "outputs": [],
   "source": [
    "import pandas as pd\n",
    "import numpy as np\n",
    "import matplotlib.pyplot as plt\n",
    "import seaborn\n",
    "from sklearn.model_selection import train_test_split\n",
    "from sklearn import metrics\n",
    "from sklearn.linear_model import LogisticRegression\n",
    "from sklearn.metrics import f1_score\n",
    "from sklearn.metrics import accuracy_score\n",
    "from sklearn.metrics import classification_report\n",
    "%matplotlib inline"
   ]
  },
  {
   "cell_type": "code",
   "execution_count": 2,
   "id": "2c6b05f4",
   "metadata": {},
   "outputs": [],
   "source": [
    "train_data = pd.read_csv(\"train_values.csv\")\n",
    "train_labels = pd.read_csv(\"train_labels.csv\")\n",
    "test_labels = pd.read_csv(\"test_values.csv\")"
   ]
  },
  {
   "cell_type": "code",
   "execution_count": 3,
   "id": "1e73aebf",
   "metadata": {},
   "outputs": [],
   "source": [
    "#create new variable to hold all train data merged with the labels aka add damage_grade to train_data\n",
    "building_damage = train_data.merge(train_labels,how='inner',on='building_id')"
   ]
  },
  {
   "cell_type": "code",
   "execution_count": 4,
   "id": "4d6e449f",
   "metadata": {},
   "outputs": [],
   "source": [
    "#drop unnecessary attributes\n",
    "building_damage = building_damage.drop(columns=\"has_secondary_use\")\n",
    "building_damage = building_damage.drop(columns=\"has_secondary_use_agriculture\")\n",
    "#this is new - JT\n",
    "building_damage = building_damage.drop(columns=\"has_secondary_use_use_police\")\n",
    "building_damage = building_damage.drop(columns=\"has_secondary_use_rental\")\n",
    "building_damage = building_damage.drop(columns=\"has_secondary_use_school\")\n",
    "building_damage = building_damage.drop(columns=\"has_secondary_use_industry\")\n",
    "building_damage = building_damage.drop(columns=\"has_secondary_use_health_post\")"
   ]
  },
  {
   "cell_type": "code",
   "execution_count": 5,
   "id": "90759918",
   "metadata": {},
   "outputs": [],
   "source": [
    "#create subset for instances less than 250 years old\n",
    "building_damage = building_damage[building_damage['age'] <= 250]"
   ]
  },
  {
   "cell_type": "code",
   "execution_count": 6,
   "id": "6c194d8f",
   "metadata": {},
   "outputs": [],
   "source": [
    "#categorical features\n",
    "cat_feats = ['land_surface_condition', 'foundation_type', 'roof_type',\n",
    "       'ground_floor_type', 'other_floor_type', 'position','legal_ownership_status',\n",
    "       'plan_configuration']"
   ]
  },
  {
   "cell_type": "code",
   "execution_count": 7,
   "id": "62dda82a",
   "metadata": {},
   "outputs": [],
   "source": [
    "#get rid of dummies instances\n",
    "train_final = pd.get_dummies(building_damage, columns=cat_feats,drop_first=True)\n",
    "test_final = pd.get_dummies(test_labels,columns=cat_feats,drop_first=True)"
   ]
  },
  {
   "cell_type": "code",
   "execution_count": 8,
   "id": "b0c31f91",
   "metadata": {},
   "outputs": [],
   "source": [
    "#set y_train equal to the damage grade in training set\n",
    "y_train=train_final.damage_grade\n",
    "#set train equal to the rest of the attributes besides damage_grade in training set\n",
    "train=train_final.drop('damage_grade',axis=1)"
   ]
  },
  {
   "cell_type": "code",
   "execution_count": 9,
   "id": "25edfc06",
   "metadata": {},
   "outputs": [],
   "source": [
    "#set X equal to the rest of the attributes besides damage_grade in the training set\n",
    "X = train_final.drop('damage_grade',axis=1)\n",
    "#set y equal to the damage grade in training set\n",
    "y = train_final['damage_grade']"
   ]
  },
  {
   "cell_type": "code",
   "execution_count": 12,
   "id": "bb4e1339",
   "metadata": {},
   "outputs": [],
   "source": [
    "#split training set into a training and a test set\n",
    "X_train,X_test,y_train,y_test = train_test_split(X,y,test_size=0.25,random_state=5)"
   ]
  },
  {
   "cell_type": "code",
   "execution_count": 13,
   "id": "c35bb77b",
   "metadata": {},
   "outputs": [],
   "source": [
    "#Scale features\n",
    "from sklearn.preprocessing import StandardScaler\n",
    "sc = StandardScaler()\n",
    "X_train = sc.fit_transform(X_train)\n",
    "X_test = sc.transform(X_test)"
   ]
  },
  {
   "cell_type": "code",
   "execution_count": 17,
   "id": "6682694c",
   "metadata": {},
   "outputs": [],
   "source": [
    "#create model with Logistic Regression\n",
    "logmodel = LogisticRegression(class_weight=None)\n",
    "p=logmodel.fit(X_train,y_train)"
   ]
  },
  {
   "cell_type": "code",
   "execution_count": 18,
   "id": "929aa1c5",
   "metadata": {},
   "outputs": [],
   "source": [
    "#make predictions on model\n",
    "predictions = logmodel.predict(X_test)"
   ]
  },
  {
   "cell_type": "code",
   "execution_count": 19,
   "id": "5bcf4042",
   "metadata": {},
   "outputs": [
    {
     "name": "stdout",
     "output_type": "stream",
     "text": [
      "              precision    recall  f1-score   support\n",
      "\n",
      "           1       0.59      0.31      0.40      6252\n",
      "           2       0.60      0.87      0.71     36960\n",
      "           3       0.55      0.20      0.30     21591\n",
      "\n",
      "    accuracy                           0.59     64803\n",
      "   macro avg       0.58      0.46      0.47     64803\n",
      "weighted avg       0.58      0.59      0.54     64803\n",
      "\n"
     ]
    }
   ],
   "source": [
    "#classification report comparing test labels to prediction labels of damage grade\n",
    "report = classification_report(y_test,predictions)\n",
    "print(report)"
   ]
  },
  {
   "cell_type": "code",
   "execution_count": 20,
   "id": "c23e1994",
   "metadata": {},
   "outputs": [
    {
     "name": "stdout",
     "output_type": "stream",
     "text": [
      "Accuracy:  0.5948644352884898\n",
      "F1_score:  0.5948644352884898\n"
     ]
    }
   ],
   "source": [
    "print('Accuracy: ', accuracy_score(y_test,predictions))\n",
    "print('F1_score: ', f1_score(y_test,predictions, average='micro'))"
   ]
  },
  {
   "cell_type": "code",
   "execution_count": null,
   "id": "b9f6f1a7",
   "metadata": {},
   "outputs": [],
   "source": []
  }
 ],
 "metadata": {
  "kernelspec": {
   "display_name": "earthquake",
   "language": "python",
   "name": "earthquake"
  },
  "language_info": {
   "codemirror_mode": {
    "name": "ipython",
    "version": 3
   },
   "file_extension": ".py",
   "mimetype": "text/x-python",
   "name": "python",
   "nbconvert_exporter": "python",
   "pygments_lexer": "ipython3",
   "version": "3.10.8"
  }
 },
 "nbformat": 4,
 "nbformat_minor": 5
}
