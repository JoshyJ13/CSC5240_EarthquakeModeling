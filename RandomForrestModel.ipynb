{
 "cells": [
  {
   "cell_type": "code",
   "execution_count": 69,
   "id": "18ac7e95",
   "metadata": {},
   "outputs": [],
   "source": [
    "import numpy as np\n",
    "import pandas as pd\n",
    "import matplotlib.pyplot as plt\n",
    "import seaborn\n",
    "from sklearn.model_selection import train_test_split\n",
    "from sklearn.preprocessing import StandardScaler\n",
    "from sklearn import linear_model\n",
    "from sklearn import metrics\n",
    "from sklearn.model_selection import GridSearchCV\n",
    "from sklearn.ensemble import RandomForestClassifier\n",
    "from sklearn.metrics import f1_score\n",
    "from sklearn.metrics import accuracy_score\n",
    "from sklearn.metrics import classification_report\n",
    "%matplotlib inline"
   ]
  },
  {
   "cell_type": "code",
   "execution_count": 70,
   "id": "bba59d77",
   "metadata": {},
   "outputs": [],
   "source": [
    "#import CSVs\n",
    "train_data = pd.read_csv(\"train_values.csv\",index_col='building_id')\n",
    "train_labels = pd.read_csv(\"train_labels.csv\", index_col='building_id')\n",
    "test_labels = pd.read_csv(\"test_values.csv\", index_col='building_id')"
   ]
  },
  {
   "cell_type": "code",
   "execution_count": 71,
   "id": "b49b9de5",
   "metadata": {},
   "outputs": [],
   "source": [
    "#create new variable to hold all train data merged with the labels aka add damage_grade to train_data\n",
    "building_damage = train_data.merge(train_labels,how='inner',on='building_id')"
   ]
  },
  {
   "cell_type": "code",
   "execution_count": 72,
   "id": "7859e1c7",
   "metadata": {},
   "outputs": [],
   "source": [
    "#drop unnecessary attributes\n",
    "building_damage = building_damage.drop(columns=\"has_secondary_use\")              #  included among other has_secondary_use\n",
    "building_damage = building_damage.drop(columns=\"has_secondary_use_institution\")  #  244 1's\n",
    "building_damage = building_damage.drop(columns=\"has_secondary_use_school\")       #   94 1's\n",
    "building_damage = building_damage.drop(columns=\"has_secondary_use_industry\")     #  279 1's\n",
    "building_damage = building_damage.drop(columns=\"has_secondary_use_health_post\")  #   49 1's\n",
    "building_damage = building_damage.drop(columns=\"has_secondary_use_gov_office\")   #   38 1's\n",
    "building_damage = building_damage.drop(columns=\"has_secondary_use_use_police\")   #   23 1's\n",
    "building_damage = building_damage.drop(columns=\"has_secondary_use_other\")        #  other has no clear relationship with damage_grade\n",
    "building_damage = building_damage.drop(columns=\"has_superstructure_other\")"
   ]
  },
  {
   "cell_type": "code",
   "execution_count": 73,
   "id": "5ba99ad0",
   "metadata": {},
   "outputs": [],
   "source": [
    "#create subset for instances less than 250 years old\n",
    "building_damage = building_damage[building_damage['age'] <= 250]"
   ]
  },
  {
   "cell_type": "code",
   "execution_count": 74,
   "id": "a80598b4",
   "metadata": {},
   "outputs": [],
   "source": [
    "age_category = np.zeros(shape=(len(building_damage), 1))\n",
    "area_category = np.zeros(shape=(len(building_damage), 1))\n",
    "height_category = np.zeros(shape=(len(building_damage), 1))\n",
    "j = 0\n",
    "for i in building_damage.index:\n",
    "\n",
    "    # age\n",
    "    if building_damage.age[i] < 10:\n",
    "        age_category[j] = 0  # 0 - 9\n",
    "    elif building_damage.age[i] < 20:\n",
    "        age_category[j] = 1  # 10 - 19\n",
    "    elif building_damage.age[i] < 50:\n",
    "        age_category[j] = 2  # 20 - 49\n",
    "    elif building_damage.age[i] < 75:\n",
    "        age_category[j] = 3  # 50 - 74\n",
    "    elif building_damage.age[i] < 125:\n",
    "        age_category[j] = 4  # 75 - 124\n",
    "    else:\n",
    "        age_category[j] = 5  # 125+\n",
    "\n",
    "    # area_percentage\n",
    "    if building_damage.area_percentage[i] < 15:\n",
    "        area_category[j] = 0  # 0 - 14\n",
    "    elif building_damage.area_percentage[i] < 32:\n",
    "        area_category[j] = 1  # 15 - 32\n",
    "    elif building_damage.area_percentage[i] < 42:\n",
    "        area_category[j] = 2  # 33 - 41\n",
    "    elif building_damage.area_percentage[i] < 52:\n",
    "        area_category[j] = 3  # 42 - 51\n",
    "    elif building_damage.area_percentage[i] < 62:\n",
    "        area_category[j] = 4  # 52 - 61\n",
    "    else:\n",
    "        area_category[j] = 5  # 62 - 100\n",
    "\n",
    "    # area percentage\n",
    "    if building_damage.height_percentage[i] < 25:\n",
    "        height_category[j] = 0  # 0 - 24\n",
    "    else:\n",
    "        height_category[j] = 1  # 25+\n",
    "\n",
    "    j = j + 1\n",
    "\n",
    "building_damage.loc[:, \"age_category\"] = age_category\n",
    "building_damage.loc[:, \"area_category\"] = area_category\n",
    "building_damage.loc[:, \"height_category\"] = height_category\n",
    "\n",
    "building_damage = building_damage.drop(columns=\"age\")\n",
    "building_damage = building_damage.drop(columns=\"area_percentage\")\n",
    "building_damage = building_damage.drop(columns=\"height_percentage\")"
   ]
  },
  {
   "cell_type": "code",
   "execution_count": 75,
   "id": "700c1987",
   "metadata": {},
   "outputs": [],
   "source": [
    "#categorical features\n",
    "cat_feats = ['land_surface_condition', 'foundation_type', 'roof_type',\n",
    "       'ground_floor_type', 'other_floor_type', 'position','legal_ownership_status',\n",
    "       'plan_configuration']"
   ]
  },
  {
   "cell_type": "code",
   "execution_count": 76,
   "id": "08f70693",
   "metadata": {},
   "outputs": [],
   "source": [
    "#get rid of dummies instances\n",
    "train_final = pd.get_dummies(building_damage, columns=cat_feats,drop_first=True)\n",
    "test_final = pd.get_dummies(test_labels,columns=cat_feats,drop_first=True)"
   ]
  },
  {
   "cell_type": "code",
   "execution_count": 77,
   "id": "071f6980",
   "metadata": {},
   "outputs": [],
   "source": [
    "#set y_train equal to the damage grade in training set\n",
    "y_train=train_final.damage_grade\n",
    "#set train equal to the rest of the attributes besides damage_grade in training set\n",
    "train=train_final.drop('damage_grade',axis=1)"
   ]
  },
  {
   "cell_type": "code",
   "execution_count": 78,
   "id": "e277d832",
   "metadata": {},
   "outputs": [],
   "source": [
    "#set X equal to the rest of the attributes besides damage_grade in the training set\n",
    "X = train_final.drop('damage_grade',axis=1)\n",
    "#set y equal to the damage grade in training set\n",
    "y = train_final['damage_grade']"
   ]
  },
  {
   "cell_type": "code",
   "execution_count": 79,
   "id": "f953cacb",
   "metadata": {},
   "outputs": [],
   "source": [
    "#split training set into a training and a test set\n",
    "X_train,X_test,y_train,y_test = train_test_split(X,y,test_size=0.25,random_state=5)"
   ]
  },
  {
   "cell_type": "code",
   "execution_count": 80,
   "id": "68cc4bd4",
   "metadata": {},
   "outputs": [],
   "source": [
    "#Scale features\n",
    "sc = StandardScaler()\n",
    "X_train = sc.fit_transform(X_train)\n",
    "X_test = sc.transform(X_test)"
   ]
  },
  {
   "cell_type": "code",
   "execution_count": 81,
   "id": "6ada19f5",
   "metadata": {},
   "outputs": [],
   "source": [
    "#RaindomForrest Model\n",
    "RF = RandomForestClassifier(n_estimators=100) #n_estimators part is new"
   ]
  },
  {
   "cell_type": "code",
   "execution_count": 82,
   "id": "d394b363",
   "metadata": {},
   "outputs": [],
   "source": [
    "#setting up paramters for GridSearchCV\n",
    "trees = [50, 55, 60,  65, 70, 75, 80, 85, 90, 95, 100]\n",
    "param_grid = {'n_estimators': trees}\n",
    "grid_search = GridSearchCV(RF, param_grid, cv=5)"
   ]
  },
  {
   "cell_type": "code",
   "execution_count": 83,
   "id": "b2c8f6c7",
   "metadata": {},
   "outputs": [
    {
     "data": {
      "text/plain": [
       "GridSearchCV(cv=5, estimator=RandomForestClassifier(),\n",
       "             param_grid={'n_estimators': [50, 55, 60, 65, 70, 75, 80, 85, 90,\n",
       "                                          95, 100]})"
      ]
     },
     "execution_count": 83,
     "metadata": {},
     "output_type": "execute_result"
    }
   ],
   "source": [
    "#fit to grid search model\n",
    "grid_search.fit(X_train,y_train)"
   ]
  },
  {
   "cell_type": "code",
   "execution_count": 84,
   "id": "6c7e77ed",
   "metadata": {},
   "outputs": [
    {
     "name": "stdout",
     "output_type": "stream",
     "text": [
      "{'n_estimators': 95}\n"
     ]
    }
   ],
   "source": [
    "#get best parameters from GridCV\n",
    "params = grid_search.best_params_\n",
    "print(params)"
   ]
  },
  {
   "cell_type": "code",
   "execution_count": 85,
   "id": "b06a49f7",
   "metadata": {},
   "outputs": [],
   "source": [
    "#build RandomForestClassifier model\n",
    "rfc = RandomForestClassifier(n_estimators=100)"
   ]
  },
  {
   "cell_type": "code",
   "execution_count": 86,
   "id": "a4f6e78b",
   "metadata": {},
   "outputs": [
    {
     "data": {
      "text/plain": [
       "RandomForestClassifier()"
      ]
     },
     "execution_count": 86,
     "metadata": {},
     "output_type": "execute_result"
    }
   ],
   "source": [
    "#fit to RandomForestClassifier model\n",
    "rfc.fit(X_train,y_train)"
   ]
  },
  {
   "cell_type": "code",
   "execution_count": 87,
   "id": "da62330b",
   "metadata": {},
   "outputs": [],
   "source": [
    "#make predictions of model\n",
    "predictions = rfc.predict(X_test)"
   ]
  },
  {
   "cell_type": "code",
   "execution_count": 88,
   "id": "89b11769",
   "metadata": {},
   "outputs": [
    {
     "name": "stdout",
     "output_type": "stream",
     "text": [
      "              precision    recall  f1-score   support\n",
      "\n",
      "           1       0.62      0.48      0.54      6252\n",
      "           2       0.72      0.80      0.76     36960\n",
      "           3       0.69      0.61      0.65     21591\n",
      "\n",
      "    accuracy                           0.71     64803\n",
      "   macro avg       0.68      0.63      0.65     64803\n",
      "weighted avg       0.70      0.71      0.70     64803\n",
      "\n"
     ]
    }
   ],
   "source": [
    "report = classification_report(y_test,predictions)\n",
    "print(report)"
   ]
  },
  {
   "cell_type": "code",
   "execution_count": 89,
   "id": "241e9ac2",
   "metadata": {},
   "outputs": [
    {
     "name": "stdout",
     "output_type": "stream",
     "text": [
      "Accuracy:  0.7056309121491289\n",
      "F1_score:  0.7056309121491289\n"
     ]
    }
   ],
   "source": [
    "print('Accuracy: ', accuracy_score(y_test,predictions))\n",
    "print('F1_score: ', f1_score(y_test,predictions, average='micro'))"
   ]
  },
  {
   "cell_type": "code",
   "execution_count": 94,
   "id": "236b0943",
   "metadata": {},
   "outputs": [],
   "source": [
    "#clean test set\n",
    "test_values_subset = test_labels.drop(columns=\"has_secondary_use\")              #  included among other has_secondary_use\n",
    "test_values_subset = test_values_subset.drop(columns=\"has_secondary_use_institution\")  #  244 1's\n",
    "test_values_subset = test_values_subset.drop(columns=\"has_secondary_use_school\")       #   94 1's\n",
    "test_values_subset = test_values_subset.drop(columns=\"has_secondary_use_industry\")     #  279 1's\n",
    "test_values_subset = test_values_subset.drop(columns=\"has_secondary_use_health_post\")  #   49 1's\n",
    "test_values_subset = test_values_subset.drop(columns=\"has_secondary_use_gov_office\")   #   38 1's\n",
    "test_values_subset = test_values_subset.drop(columns=\"has_secondary_use_use_police\")   #   23 1's\n",
    "test_values_subset = test_values_subset.drop(columns=\"has_secondary_use_other\")        #  other has no clear relationship with damage_grade\n",
    "test_values_subset = test_values_subset.drop(columns=\"has_superstructure_other\")"
   ]
  },
  {
   "cell_type": "code",
   "execution_count": 99,
   "id": "d8239f30",
   "metadata": {},
   "outputs": [],
   "source": [
    "age_category_test = np.zeros(shape=(len(test_values_subset), 1))\n",
    "area_category_test = np.zeros(shape=(len(test_values_subset), 1))\n",
    "height_category_test = np.zeros(shape=(len(test_values_subset), 1))\n",
    "j = 0\n",
    "for i in test_values_subset.index:\n",
    "\n",
    "    # age\n",
    "    if test_values_subset.age[i] < 10:\n",
    "        age_category_test[j] = 0  # 0 - 9\n",
    "    elif test_values_subset.age[i] < 20:\n",
    "        age_category_test[j] = 1  # 10 - 19\n",
    "    elif test_values_subset.age[i] < 50:\n",
    "        age_category_test[j] = 2  # 20 - 49\n",
    "    elif test_values_subset.age[i] < 75:\n",
    "        age_category_test[j] = 3  # 50 - 74\n",
    "    elif test_values_subset.age[i] < 125:\n",
    "        age_category_test[j] = 4  # 75 - 124\n",
    "    else:\n",
    "        age_category_test[j] = 5  # 125+\n",
    "\n",
    "    # area_percentage\n",
    "    if test_values_subset.area_percentage[i] < 15:\n",
    "        area_category_test[j] = 0  # 0 - 14\n",
    "    elif test_values_subset.area_percentage[i] < 32:\n",
    "        area_category_test[j] = 1  # 15 - 32\n",
    "    elif test_values_subset.area_percentage[i] < 42:\n",
    "        area_category_test[j] = 2  # 33 - 41\n",
    "    elif test_values_subset.area_percentage[i] < 52:\n",
    "        area_category_test[j] = 3  # 42 - 51\n",
    "    elif test_values_subset.area_percentage[i] < 62:\n",
    "        area_category_test[j] = 4  # 52 - 61\n",
    "    else:\n",
    "        area_category[j] = 5  # 62 - 100\n",
    "\n",
    "    # area percentage\n",
    "    if test_values_subset.height_percentage[i] < 25:\n",
    "        height_category[j] = 0  # 0 - 24\n",
    "    else:\n",
    "        height_category[j] = 1  # 25+\n",
    "\n",
    "    j = j + 1\n",
    "\n",
    "test_values_subset.loc[:, \"age_category\"] = age_category_test\n",
    "test_values_subset.loc[:, \"area_category\"] = area_category_test\n",
    "test_values_subset.loc[:, \"height_category\"] = height_category_test\n",
    "\n",
    "test_values_subset = test_values_subset.drop(columns=\"age\")\n",
    "test_values_subset = test_values_subset.drop(columns=\"area_percentage\")\n",
    "test_values_subset = test_values_subset.drop(columns=\"height_percentage\")\n",
    "\n",
    "test_final = pd.get_dummies(test_values_subset,columns=cat_feats,drop_first=True)"
   ]
  },
  {
   "cell_type": "code",
   "execution_count": 100,
   "id": "2ba2fd67",
   "metadata": {},
   "outputs": [
    {
     "name": "stdout",
     "output_type": "stream",
     "text": [
      "[2 2 3 ... 2 3 3]\n"
     ]
    }
   ],
   "source": [
    "#make predictions\n",
    "\n",
    "test_predict = rfc.predict(test_final.values)\n",
    "print(test_predict)"
   ]
  },
  {
   "cell_type": "code",
   "execution_count": 101,
   "id": "0cd5d441",
   "metadata": {},
   "outputs": [
    {
     "name": "stdout",
     "output_type": "stream",
     "text": [
      "             damage_grade\n",
      "building_id              \n",
      "300051                  1\n",
      "99355                   1\n",
      "890251                  1\n",
      "745817                  1\n",
      "421793                  1\n",
      "...                   ...\n",
      "310028                  1\n",
      "663567                  1\n",
      "1049160                 1\n",
      "442785                  1\n",
      "501372                  1\n",
      "\n",
      "[86868 rows x 1 columns]\n"
     ]
    }
   ],
   "source": [
    "#create submission\n",
    "submission_format = pd.read_csv('submission_format.csv', index_col='building_id')\n",
    "print(submission_format)"
   ]
  },
  {
   "cell_type": "code",
   "execution_count": 102,
   "id": "a33dbd14",
   "metadata": {},
   "outputs": [],
   "source": [
    "my_submission = pd.DataFrame(data=test_predict,\n",
    "                             columns=submission_format.columns,\n",
    "                             index=submission_format.index)"
   ]
  },
  {
   "cell_type": "code",
   "execution_count": 103,
   "id": "abae922c",
   "metadata": {},
   "outputs": [
    {
     "data": {
      "text/html": [
       "<div>\n",
       "<style scoped>\n",
       "    .dataframe tbody tr th:only-of-type {\n",
       "        vertical-align: middle;\n",
       "    }\n",
       "\n",
       "    .dataframe tbody tr th {\n",
       "        vertical-align: top;\n",
       "    }\n",
       "\n",
       "    .dataframe thead th {\n",
       "        text-align: right;\n",
       "    }\n",
       "</style>\n",
       "<table border=\"1\" class=\"dataframe\">\n",
       "  <thead>\n",
       "    <tr style=\"text-align: right;\">\n",
       "      <th></th>\n",
       "      <th>damage_grade</th>\n",
       "    </tr>\n",
       "    <tr>\n",
       "      <th>building_id</th>\n",
       "      <th></th>\n",
       "    </tr>\n",
       "  </thead>\n",
       "  <tbody>\n",
       "    <tr>\n",
       "      <th>300051</th>\n",
       "      <td>2</td>\n",
       "    </tr>\n",
       "    <tr>\n",
       "      <th>99355</th>\n",
       "      <td>2</td>\n",
       "    </tr>\n",
       "    <tr>\n",
       "      <th>890251</th>\n",
       "      <td>3</td>\n",
       "    </tr>\n",
       "    <tr>\n",
       "      <th>745817</th>\n",
       "      <td>2</td>\n",
       "    </tr>\n",
       "    <tr>\n",
       "      <th>421793</th>\n",
       "      <td>2</td>\n",
       "    </tr>\n",
       "  </tbody>\n",
       "</table>\n",
       "</div>"
      ],
      "text/plain": [
       "             damage_grade\n",
       "building_id              \n",
       "300051                  2\n",
       "99355                   2\n",
       "890251                  3\n",
       "745817                  2\n",
       "421793                  2"
      ]
     },
     "execution_count": 103,
     "metadata": {},
     "output_type": "execute_result"
    }
   ],
   "source": [
    "my_submission.head()"
   ]
  },
  {
   "cell_type": "code",
   "execution_count": 104,
   "id": "639a099a",
   "metadata": {},
   "outputs": [],
   "source": [
    "my_submission.to_csv('submission.csv')"
   ]
  },
  {
   "cell_type": "code",
   "execution_count": null,
   "id": "2d94daa4",
   "metadata": {},
   "outputs": [],
   "source": []
  }
 ],
 "metadata": {
  "kernelspec": {
   "display_name": "Python 3 (ipykernel)",
   "language": "python",
   "name": "python3"
  },
  "language_info": {
   "codemirror_mode": {
    "name": "ipython",
    "version": 3
   },
   "file_extension": ".py",
   "mimetype": "text/x-python",
   "name": "python",
   "nbconvert_exporter": "python",
   "pygments_lexer": "ipython3",
   "version": "3.9.13"
  }
 },
 "nbformat": 4,
 "nbformat_minor": 5
}
