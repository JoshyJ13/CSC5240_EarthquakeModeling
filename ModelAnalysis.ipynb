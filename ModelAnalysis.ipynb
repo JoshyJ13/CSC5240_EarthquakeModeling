{
 "cells": [
  {
   "cell_type": "code",
   "execution_count": 2,
   "id": "5b07d20d",
   "metadata": {},
   "outputs": [],
   "source": [
    "import pandas as pd\n",
    "import numpy as np\n",
    "import matplotlib.pyplot as plt\n",
    "import seaborn\n",
    "%matplotlib inline"
   ]
  },
  {
   "cell_type": "code",
   "execution_count": 3,
   "id": "951e0185",
   "metadata": {},
   "outputs": [],
   "source": [
    "train_data = pd.read_csv(\"train_values.csv\")\n",
    "train_labels = pd.read_csv(\"train_labels.csv\")\n",
    "test_labels = pd.read_csv(\"test_values.csv\")"
   ]
  },
  {
   "cell_type": "code",
   "execution_count": 4,
   "id": "c9e7cc4f",
   "metadata": {},
   "outputs": [
    {
     "data": {
      "text/plain": [
       "building_id                               0\n",
       "geo_level_1_id                            0\n",
       "geo_level_2_id                            0\n",
       "geo_level_3_id                            0\n",
       "count_floors_pre_eq                       0\n",
       "age                                       0\n",
       "area_percentage                           0\n",
       "height_percentage                         0\n",
       "land_surface_condition                    0\n",
       "foundation_type                           0\n",
       "roof_type                                 0\n",
       "ground_floor_type                         0\n",
       "other_floor_type                          0\n",
       "position                                  0\n",
       "plan_configuration                        0\n",
       "has_superstructure_adobe_mud              0\n",
       "has_superstructure_mud_mortar_stone       0\n",
       "has_superstructure_stone_flag             0\n",
       "has_superstructure_cement_mortar_stone    0\n",
       "has_superstructure_mud_mortar_brick       0\n",
       "has_superstructure_cement_mortar_brick    0\n",
       "has_superstructure_timber                 0\n",
       "has_superstructure_bamboo                 0\n",
       "has_superstructure_rc_non_engineered      0\n",
       "has_superstructure_rc_engineered          0\n",
       "has_superstructure_other                  0\n",
       "legal_ownership_status                    0\n",
       "count_families                            0\n",
       "has_secondary_use                         0\n",
       "has_secondary_use_agriculture             0\n",
       "has_secondary_use_hotel                   0\n",
       "has_secondary_use_rental                  0\n",
       "has_secondary_use_institution             0\n",
       "has_secondary_use_school                  0\n",
       "has_secondary_use_industry                0\n",
       "has_secondary_use_health_post             0\n",
       "has_secondary_use_gov_office              0\n",
       "has_secondary_use_use_police              0\n",
       "has_secondary_use_other                   0\n",
       "dtype: int64"
      ]
     },
     "execution_count": 4,
     "metadata": {},
     "output_type": "execute_result"
    }
   ],
   "source": [
    "#preprocess data\n",
    "train_data.isna().sum() #no missing values"
   ]
  },
  {
   "cell_type": "code",
   "execution_count": 5,
   "id": "ae64b271",
   "metadata": {},
   "outputs": [],
   "source": [
    "#create new variable to hold all train data merged with the labels aka add damage_grade to train_data\n",
    "building_damage = train_data.merge(train_labels,how='inner',on='building_id')"
   ]
  },
  {
   "cell_type": "code",
   "execution_count": 6,
   "id": "7bdab475",
   "metadata": {},
   "outputs": [],
   "source": [
    "#drop unnecessary attributes\n",
    "building_damage = building_damage.drop(columns=\"has_secondary_use\")              #  included among other has_secondary_use\n",
    "building_damage = building_damage.drop(columns=\"has_secondary_use_institution\")  #  244 1's\n",
    "building_damage = building_damage.drop(columns=\"has_secondary_use_school\")       #   94 1's\n",
    "building_damage = building_damage.drop(columns=\"has_secondary_use_industry\")     #  279 1's\n",
    "building_damage = building_damage.drop(columns=\"has_secondary_use_health_post\")  #   49 1's\n",
    "building_damage = building_damage.drop(columns=\"has_secondary_use_gov_office\")   #   38 1's\n",
    "building_damage = building_damage.drop(columns=\"has_secondary_use_use_police\")   #   23 1's\n",
    "building_damage = building_damage.drop(columns=\"has_secondary_use_other\")        #  other has no clear relationship with damage_grade\n",
    "building_damage = building_damage.drop(columns=\"has_superstructure_other\")"
   ]
  },
  {
   "cell_type": "code",
   "execution_count": 7,
   "id": "fa1be242",
   "metadata": {},
   "outputs": [],
   "source": [
    "#create subset for instances less than 250 years old\n",
    "building_damage = building_damage[building_damage['age'] <= 250]"
   ]
  },
  {
   "cell_type": "code",
   "execution_count": 8,
   "id": "b3407c32",
   "metadata": {},
   "outputs": [],
   "source": [
    "age_category = np.zeros(shape=(len(building_damage), 1))\n",
    "area_category = np.zeros(shape=(len(building_damage), 1))\n",
    "height_category = np.zeros(shape=(len(building_damage), 1))\n",
    "j = 0\n",
    "for i in building_damage.index:\n",
    "\n",
    "    # age\n",
    "    if building_damage.age[i] < 10:\n",
    "        age_category[j] = 0  # 0 - 9\n",
    "    elif building_damage.age[i] < 20:\n",
    "        age_category[j] = 1  # 10 - 19\n",
    "    elif building_damage.age[i] < 50:\n",
    "        age_category[j] = 2  # 20 - 49\n",
    "    elif building_damage.age[i] < 75:\n",
    "        age_category[j] = 3  # 50 - 74\n",
    "    elif building_damage.age[i] < 125:\n",
    "        age_category[j] = 4  # 75 - 124\n",
    "    else:\n",
    "        age_category[j] = 5  # 125+\n",
    "\n",
    "    # area_percentage\n",
    "    if building_damage.area_percentage[i] < 15:\n",
    "        area_category[j] = 0  # 0 - 14\n",
    "    elif building_damage.area_percentage[i] < 32:\n",
    "        area_category[j] = 1  # 15 - 32\n",
    "    elif building_damage.area_percentage[i] < 42:\n",
    "        area_category[j] = 2  # 33 - 41\n",
    "    elif building_damage.area_percentage[i] < 52:\n",
    "        area_category[j] = 3  # 42 - 51\n",
    "    elif building_damage.area_percentage[i] < 62:\n",
    "        area_category[j] = 4  # 52 - 61\n",
    "    else:\n",
    "        area_category[j] = 5  # 62 - 100\n",
    "\n",
    "    # area percentage\n",
    "    if building_damage.height_percentage[i] < 25:\n",
    "        height_category[j] = 0  # 0 - 24\n",
    "    else:\n",
    "        height_category[j] = 1  # 25+\n",
    "\n",
    "    j = j + 1\n",
    "\n",
    "building_damage.loc[:, \"age_category\"] = age_category\n",
    "building_damage.loc[:, \"area_category\"] = area_category\n",
    "building_damage.loc[:, \"height_category\"] = height_category\n",
    "\n",
    "building_damage = building_damage.drop(columns=\"age\")\n",
    "building_damage = building_damage.drop(columns=\"area_percentage\")\n",
    "building_damage = building_damage.drop(columns=\"height_percentage\")"
   ]
  },
  {
   "cell_type": "code",
   "execution_count": 9,
   "id": "45437b72",
   "metadata": {},
   "outputs": [
    {
     "data": {
      "text/plain": [
       "2    147437\n",
       "3     86829\n",
       "1     24945\n",
       "Name: damage_grade, dtype: int64"
      ]
     },
     "execution_count": 9,
     "metadata": {},
     "output_type": "execute_result"
    }
   ],
   "source": [
    "#how many instances with each damage grade\n",
    "building_damage['damage_grade'].value_counts()"
   ]
  },
  {
   "cell_type": "code",
   "execution_count": 10,
   "id": "c2434140",
   "metadata": {},
   "outputs": [],
   "source": [
    "#categorical features\n",
    "cat_feats = ['land_surface_condition', 'foundation_type', 'roof_type',\n",
    "       'ground_floor_type', 'other_floor_type', 'position','legal_ownership_status',\n",
    "       'plan_configuration']"
   ]
  },
  {
   "cell_type": "code",
   "execution_count": 11,
   "id": "56f035c5",
   "metadata": {},
   "outputs": [],
   "source": [
    "building_damage['damage_grade'] = building_damage['damage_grade'].astype('category')"
   ]
  },
  {
   "cell_type": "code",
   "execution_count": 12,
   "id": "1fa3fb0f",
   "metadata": {},
   "outputs": [],
   "source": [
    "#get rid of dummies instances\n",
    "train_final = pd.get_dummies(building_damage, columns=cat_feats,drop_first=True)\n",
    "test_final = pd.get_dummies(test_labels,columns=cat_feats,drop_first=True)"
   ]
  },
  {
   "cell_type": "code",
   "execution_count": 13,
   "id": "a6c4d14f",
   "metadata": {},
   "outputs": [
    {
     "name": "stdout",
     "output_type": "stream",
     "text": [
      "<class 'pandas.core.frame.DataFrame'>\n",
      "RangeIndex: 86868 entries, 0 to 86867\n",
      "Data columns (total 61 columns):\n",
      " #   Column                                  Non-Null Count  Dtype\n",
      "---  ------                                  --------------  -----\n",
      " 0   building_id                             86868 non-null  int64\n",
      " 1   geo_level_1_id                          86868 non-null  int64\n",
      " 2   geo_level_2_id                          86868 non-null  int64\n",
      " 3   geo_level_3_id                          86868 non-null  int64\n",
      " 4   count_floors_pre_eq                     86868 non-null  int64\n",
      " 5   age                                     86868 non-null  int64\n",
      " 6   area_percentage                         86868 non-null  int64\n",
      " 7   height_percentage                       86868 non-null  int64\n",
      " 8   has_superstructure_adobe_mud            86868 non-null  int64\n",
      " 9   has_superstructure_mud_mortar_stone     86868 non-null  int64\n",
      " 10  has_superstructure_stone_flag           86868 non-null  int64\n",
      " 11  has_superstructure_cement_mortar_stone  86868 non-null  int64\n",
      " 12  has_superstructure_mud_mortar_brick     86868 non-null  int64\n",
      " 13  has_superstructure_cement_mortar_brick  86868 non-null  int64\n",
      " 14  has_superstructure_timber               86868 non-null  int64\n",
      " 15  has_superstructure_bamboo               86868 non-null  int64\n",
      " 16  has_superstructure_rc_non_engineered    86868 non-null  int64\n",
      " 17  has_superstructure_rc_engineered        86868 non-null  int64\n",
      " 18  has_superstructure_other                86868 non-null  int64\n",
      " 19  count_families                          86868 non-null  int64\n",
      " 20  has_secondary_use                       86868 non-null  int64\n",
      " 21  has_secondary_use_agriculture           86868 non-null  int64\n",
      " 22  has_secondary_use_hotel                 86868 non-null  int64\n",
      " 23  has_secondary_use_rental                86868 non-null  int64\n",
      " 24  has_secondary_use_institution           86868 non-null  int64\n",
      " 25  has_secondary_use_school                86868 non-null  int64\n",
      " 26  has_secondary_use_industry              86868 non-null  int64\n",
      " 27  has_secondary_use_health_post           86868 non-null  int64\n",
      " 28  has_secondary_use_gov_office            86868 non-null  int64\n",
      " 29  has_secondary_use_use_police            86868 non-null  int64\n",
      " 30  has_secondary_use_other                 86868 non-null  int64\n",
      " 31  land_surface_condition_o                86868 non-null  uint8\n",
      " 32  land_surface_condition_t                86868 non-null  uint8\n",
      " 33  foundation_type_i                       86868 non-null  uint8\n",
      " 34  foundation_type_r                       86868 non-null  uint8\n",
      " 35  foundation_type_u                       86868 non-null  uint8\n",
      " 36  foundation_type_w                       86868 non-null  uint8\n",
      " 37  roof_type_q                             86868 non-null  uint8\n",
      " 38  roof_type_x                             86868 non-null  uint8\n",
      " 39  ground_floor_type_m                     86868 non-null  uint8\n",
      " 40  ground_floor_type_v                     86868 non-null  uint8\n",
      " 41  ground_floor_type_x                     86868 non-null  uint8\n",
      " 42  ground_floor_type_z                     86868 non-null  uint8\n",
      " 43  other_floor_type_q                      86868 non-null  uint8\n",
      " 44  other_floor_type_s                      86868 non-null  uint8\n",
      " 45  other_floor_type_x                      86868 non-null  uint8\n",
      " 46  position_o                              86868 non-null  uint8\n",
      " 47  position_s                              86868 non-null  uint8\n",
      " 48  position_t                              86868 non-null  uint8\n",
      " 49  legal_ownership_status_r                86868 non-null  uint8\n",
      " 50  legal_ownership_status_v                86868 non-null  uint8\n",
      " 51  legal_ownership_status_w                86868 non-null  uint8\n",
      " 52  plan_configuration_c                    86868 non-null  uint8\n",
      " 53  plan_configuration_d                    86868 non-null  uint8\n",
      " 54  plan_configuration_f                    86868 non-null  uint8\n",
      " 55  plan_configuration_m                    86868 non-null  uint8\n",
      " 56  plan_configuration_n                    86868 non-null  uint8\n",
      " 57  plan_configuration_o                    86868 non-null  uint8\n",
      " 58  plan_configuration_q                    86868 non-null  uint8\n",
      " 59  plan_configuration_s                    86868 non-null  uint8\n",
      " 60  plan_configuration_u                    86868 non-null  uint8\n",
      "dtypes: int64(31), uint8(30)\n",
      "memory usage: 23.0 MB\n"
     ]
    }
   ],
   "source": [
    "#list of all attributes in test set\n",
    "test_final.info()"
   ]
  },
  {
   "cell_type": "code",
   "execution_count": 14,
   "id": "318ca883",
   "metadata": {},
   "outputs": [],
   "source": [
    "#split set between train and test\n",
    "from sklearn.model_selection import train_test_split"
   ]
  },
  {
   "cell_type": "code",
   "execution_count": 15,
   "id": "80874281",
   "metadata": {},
   "outputs": [],
   "source": [
    "#set y_train equal to the damage grade in training set\n",
    "y_train=train_final.damage_grade\n",
    "#set train equal to the rest of the attributes besides damage_grade in training set\n",
    "train=train_final.drop('damage_grade',axis=1)"
   ]
  },
  {
   "cell_type": "code",
   "execution_count": 16,
   "id": "e94d9bcc",
   "metadata": {},
   "outputs": [],
   "source": [
    "#set X equal to the rest of the attributes besides damage_grade in the training set\n",
    "X = train_final.drop('damage_grade',axis=1)\n",
    "#set y equal to the damage grade in training set\n",
    "y = train_final['damage_grade']"
   ]
  },
  {
   "cell_type": "code",
   "execution_count": 17,
   "id": "ef175c13",
   "metadata": {},
   "outputs": [],
   "source": [
    "#split training set into a training and a test set\n",
    "X_train,X_test,y_train,y_test = train_test_split(X,y,test_size=0.25,random_state=5)"
   ]
  },
  {
   "cell_type": "code",
   "execution_count": 18,
   "id": "6843066a",
   "metadata": {},
   "outputs": [],
   "source": [
    "#Scale features\n",
    "from sklearn.preprocessing import StandardScaler\n",
    "sc = StandardScaler()\n",
    "X_train = sc.fit_transform(X_train)\n",
    "X_test = sc.transform(X_test)"
   ]
  },
  {
   "cell_type": "code",
   "execution_count": 19,
   "id": "f218bbfb",
   "metadata": {},
   "outputs": [],
   "source": [
    "#Model Preparation\n",
    "from sklearn.linear_model import LogisticRegression\n",
    "from sklearn import linear_model\n",
    "from sklearn import metrics\n",
    "from sklearn.model_selection import GridSearchCV\n",
    "from sklearn.metrics import f1_score\n",
    "from sklearn.metrics import accuracy_score\n",
    "from sklearn.metrics import classification_report"
   ]
  },
  {
   "cell_type": "code",
   "execution_count": 20,
   "id": "7f3d05a6",
   "metadata": {},
   "outputs": [],
   "source": [
    "#create model with Logistic Regression\n",
    "logmodel = LogisticRegression(class_weight=None)\n",
    "p=logmodel.fit(X_train,y_train)"
   ]
  },
  {
   "cell_type": "code",
   "execution_count": 21,
   "id": "2814a230",
   "metadata": {},
   "outputs": [],
   "source": [
    "#make predictions on model\n",
    "predictions = logmodel.predict(X_test)"
   ]
  },
  {
   "cell_type": "code",
   "execution_count": 22,
   "id": "04007bec",
   "metadata": {},
   "outputs": [
    {
     "name": "stdout",
     "output_type": "stream",
     "text": [
      "              precision    recall  f1-score   support\n",
      "\n",
      "           1       0.59      0.31      0.41      6252\n",
      "           2       0.60      0.87      0.71     36960\n",
      "           3       0.54      0.20      0.29     21591\n",
      "\n",
      "    accuracy                           0.59     64803\n",
      "   macro avg       0.58      0.46      0.47     64803\n",
      "weighted avg       0.58      0.59      0.54     64803\n",
      "\n"
     ]
    }
   ],
   "source": [
    "#classification report comparing test labels to prediction labels of damage grade\n",
    "report = classification_report(y_test,predictions)\n",
    "print(report)"
   ]
  },
  {
   "cell_type": "code",
   "execution_count": 23,
   "id": "64496f54",
   "metadata": {},
   "outputs": [
    {
     "name": "stdout",
     "output_type": "stream",
     "text": [
      "Accuracy:  0.5946946900606453\n",
      "F1_score:  0.5946946900606453\n"
     ]
    }
   ],
   "source": [
    "print('Accuracy: ', accuracy_score(y_test,predictions))\n",
    "print('F1_score: ', f1_score(y_test,predictions, average='micro'))"
   ]
  },
  {
   "cell_type": "code",
   "execution_count": 24,
   "id": "f2bb7cc2",
   "metadata": {},
   "outputs": [],
   "source": [
    "#Model preparation using Decision Tree\n",
    "from sklearn.tree import DecisionTreeClassifier"
   ]
  },
  {
   "cell_type": "code",
   "execution_count": 25,
   "id": "afdb4f50",
   "metadata": {},
   "outputs": [
    {
     "data": {
      "text/plain": [
       "DecisionTreeClassifier()"
      ]
     },
     "execution_count": 25,
     "metadata": {},
     "output_type": "execute_result"
    }
   ],
   "source": [
    "#create decision tree and model\n",
    "dtree = DecisionTreeClassifier()\n",
    "y_train = list(y_train)\n",
    "dtree.fit(X_train,y_train)"
   ]
  },
  {
   "cell_type": "code",
   "execution_count": 26,
   "id": "50fcd8f5",
   "metadata": {},
   "outputs": [],
   "source": [
    "#make predictions of model\n",
    "predictions = dtree.predict(X_test)"
   ]
  },
  {
   "cell_type": "code",
   "execution_count": 27,
   "id": "7d38696f",
   "metadata": {},
   "outputs": [
    {
     "name": "stdout",
     "output_type": "stream",
     "text": [
      "              precision    recall  f1-score   support\n",
      "\n",
      "           1       0.47      0.48      0.47      6252\n",
      "           2       0.70      0.69      0.70     36960\n",
      "           3       0.60      0.61      0.60     21591\n",
      "\n",
      "    accuracy                           0.64     64803\n",
      "   macro avg       0.59      0.59      0.59     64803\n",
      "weighted avg       0.64      0.64      0.64     64803\n",
      "\n"
     ]
    }
   ],
   "source": [
    "#get detailed report of results\n",
    "report = classification_report(y_test,predictions)\n",
    "print(report)"
   ]
  },
  {
   "cell_type": "code",
   "execution_count": 28,
   "id": "ce49fd67",
   "metadata": {},
   "outputs": [
    {
     "name": "stdout",
     "output_type": "stream",
     "text": [
      "Accuracy:  0.6427480209249572\n",
      "F1_score:  0.6427480209249572\n"
     ]
    }
   ],
   "source": [
    "print('Accuracy: ', accuracy_score(y_test,predictions))\n",
    "print('F1_score: ', f1_score(y_test,predictions, average='micro'))"
   ]
  },
  {
   "cell_type": "code",
   "execution_count": 29,
   "id": "cbcdc7f5",
   "metadata": {},
   "outputs": [],
   "source": [
    "#RaindomForrest Model\n",
    "from sklearn.ensemble import RandomForestClassifier"
   ]
  },
  {
   "cell_type": "code",
   "execution_count": 30,
   "id": "a356a9bd",
   "metadata": {},
   "outputs": [],
   "source": [
    "RF = RandomForestClassifier()"
   ]
  },
  {
   "cell_type": "code",
   "execution_count": 31,
   "id": "aab61c81",
   "metadata": {},
   "outputs": [],
   "source": [
    "#setting up paramters for GridSearchCV\n",
    "trees = [50, 55, 60,  65, 70, 75, 80, 85, 90, 95, 100]\n",
    "param_grid = {'n_estimators': trees}\n",
    "grid_search = GridSearchCV(RF, param_grid, cv=5)"
   ]
  },
  {
   "cell_type": "code",
   "execution_count": 32,
   "id": "af6cf8e1",
   "metadata": {},
   "outputs": [
    {
     "data": {
      "text/plain": [
       "GridSearchCV(cv=5, estimator=RandomForestClassifier(),\n",
       "             param_grid={'n_estimators': [50, 55, 60, 65, 70, 75, 80, 85, 90,\n",
       "                                          95, 100]})"
      ]
     },
     "execution_count": 32,
     "metadata": {},
     "output_type": "execute_result"
    }
   ],
   "source": [
    "#fit to model\n",
    "grid_search.fit(X_train,y_train)"
   ]
  },
  {
   "cell_type": "code",
   "execution_count": 33,
   "id": "9bd50472",
   "metadata": {},
   "outputs": [
    {
     "name": "stdout",
     "output_type": "stream",
     "text": [
      "{'n_estimators': 85}\n"
     ]
    }
   ],
   "source": [
    "params = grid_search.best_params_\n",
    "print(params)"
   ]
  },
  {
   "cell_type": "code",
   "execution_count": 34,
   "id": "ca496627",
   "metadata": {},
   "outputs": [],
   "source": [
    "rfc = RandomForestClassifier(n_estimators=100)"
   ]
  },
  {
   "cell_type": "code",
   "execution_count": 35,
   "id": "72d57f7e",
   "metadata": {},
   "outputs": [
    {
     "data": {
      "text/plain": [
       "RandomForestClassifier()"
      ]
     },
     "execution_count": 35,
     "metadata": {},
     "output_type": "execute_result"
    }
   ],
   "source": [
    "rfc.fit(X_train,y_train)"
   ]
  },
  {
   "cell_type": "code",
   "execution_count": 36,
   "id": "c8e9eb50",
   "metadata": {},
   "outputs": [],
   "source": [
    "predictions = rfc.predict(X_test)"
   ]
  },
  {
   "cell_type": "code",
   "execution_count": 37,
   "id": "88948468",
   "metadata": {},
   "outputs": [
    {
     "name": "stdout",
     "output_type": "stream",
     "text": [
      "              precision    recall  f1-score   support\n",
      "\n",
      "           1       0.64      0.46      0.54      6252\n",
      "           2       0.72      0.81      0.76     36960\n",
      "           3       0.70      0.59      0.64     21591\n",
      "\n",
      "    accuracy                           0.71     64803\n",
      "   macro avg       0.68      0.62      0.65     64803\n",
      "weighted avg       0.70      0.71      0.70     64803\n",
      "\n"
     ]
    }
   ],
   "source": [
    "#detailed report of results\n",
    "report = classification_report(y_test,predictions)\n",
    "print(report)"
   ]
  },
  {
   "cell_type": "code",
   "execution_count": 38,
   "id": "2aa19390",
   "metadata": {},
   "outputs": [
    {
     "name": "stdout",
     "output_type": "stream",
     "text": [
      "Accuracy:  0.706171010601361\n",
      "F1_score:  0.706171010601361\n"
     ]
    }
   ],
   "source": [
    "print('Accuracy: ', accuracy_score(y_test,predictions))\n",
    "print('F1_score: ', f1_score(y_test,predictions, average='micro'))"
   ]
  }
 ],
 "metadata": {
  "kernelspec": {
   "display_name": "Python 3 (ipykernel)",
   "language": "python",
   "name": "python3"
  },
  "language_info": {
   "codemirror_mode": {
    "name": "ipython",
    "version": 3
   },
   "file_extension": ".py",
   "mimetype": "text/x-python",
   "name": "python",
   "nbconvert_exporter": "python",
   "pygments_lexer": "ipython3",
   "version": "3.9.13"
  }
 },
 "nbformat": 4,
 "nbformat_minor": 5
}
