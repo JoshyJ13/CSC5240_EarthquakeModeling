{
 "cells": [
  {
   "cell_type": "code",
   "execution_count": 43,
   "id": "cdca5c98",
   "metadata": {},
   "outputs": [],
   "source": [
    "import pandas as pd\n",
    "import numpy as np\n",
    "import matplotlib.pyplot as plt\n",
    "import seaborn\n",
    "from sklearn.model_selection import train_test_split\n",
    "from sklearn import metrics\n",
    "#Model preparation using Decision Tree\n",
    "from sklearn.tree import DecisionTreeClassifier\n",
    "from sklearn.metrics import f1_score\n",
    "from sklearn.metrics import accuracy_score\n",
    "from sklearn.metrics import classification_report\n",
    "%matplotlib inline"
   ]
  },
  {
   "cell_type": "code",
   "execution_count": 44,
   "id": "e50740a6",
   "metadata": {},
   "outputs": [],
   "source": [
    "train_data = pd.read_csv(\"train_values.csv\")\n",
    "train_labels = pd.read_csv(\"train_labels.csv\")\n",
    "test_labels = pd.read_csv(\"test_values.csv\")"
   ]
  },
  {
   "cell_type": "code",
   "execution_count": 45,
   "id": "e292438e",
   "metadata": {},
   "outputs": [],
   "source": [
    "#create new variable to hold all train data merged with the labels aka add damage_grade to train_data\n",
    "building_damage = train_data.merge(train_labels,how='inner',on='building_id')"
   ]
  },
  {
   "cell_type": "code",
   "execution_count": 46,
   "id": "932691b5",
   "metadata": {},
   "outputs": [],
   "source": [
    "#drop unnecessary attributes\n",
    "#kept has_secondary_use...agriculture, hotel, rental\n",
    "building_damage = building_damage.drop(columns=\"has_secondary_use\")              #  included among other has_secondary_use\n",
    "building_damage = building_damage.drop(columns=\"has_secondary_use_institution\")  #  244 1's\n",
    "building_damage = building_damage.drop(columns=\"has_secondary_use_school\")       #   94 1's\n",
    "building_damage = building_damage.drop(columns=\"has_secondary_use_industry\")     #  279 1's\n",
    "building_damage = building_damage.drop(columns=\"has_secondary_use_health_post\")  #   49 1's\n",
    "building_damage = building_damage.drop(columns=\"has_secondary_use_gov_office\")   #   38 1's\n",
    "building_damage = building_damage.drop(columns=\"has_secondary_use_use_police\")   #   23 1's\n",
    "building_damage = building_damage.drop(columns=\"has_secondary_use_other\")        #  other has no clear relationship with damage_grade\n",
    "building_damage = building_damage.drop(columns=\"has_superstructure_other\")"
   ]
  },
  {
   "cell_type": "code",
   "execution_count": 47,
   "id": "fdfb8124",
   "metadata": {},
   "outputs": [],
   "source": [
    "#create subset for instances less than 250 years old\n",
    "building_damage = building_damage[building_damage['age'] <= 250]"
   ]
  },
  {
   "cell_type": "code",
   "execution_count": 48,
   "id": "ad9f302a",
   "metadata": {},
   "outputs": [],
   "source": [
    "age_category = np.zeros(shape=(len(building_damage), 1))\n",
    "area_category = np.zeros(shape=(len(building_damage), 1))\n",
    "height_category = np.zeros(shape=(len(building_damage), 1))\n",
    "j = 0\n",
    "for i in building_damage.index:\n",
    "\n",
    "    # age\n",
    "    if building_damage.age[i] < 10:\n",
    "        age_category[j] = 0  # 0 - 9\n",
    "    elif building_damage.age[i] < 20:\n",
    "        age_category[j] = 1  # 10 - 19\n",
    "    elif building_damage.age[i] < 50:\n",
    "        age_category[j] = 2  # 20 - 49\n",
    "    elif building_damage.age[i] < 75:\n",
    "        age_category[j] = 3  # 50 - 74\n",
    "    elif building_damage.age[i] < 125:\n",
    "        age_category[j] = 4  # 75 - 124\n",
    "    else:\n",
    "        age_category[j] = 5  # 125+\n",
    "\n",
    "    # area_percentage\n",
    "    if building_damage.area_percentage[i] < 15:\n",
    "        area_category[j] = 0  # 0 - 14\n",
    "    elif building_damage.area_percentage[i] < 32:\n",
    "        area_category[j] = 1  # 15 - 32\n",
    "    elif building_damage.area_percentage[i] < 42:\n",
    "        area_category[j] = 2  # 33 - 41\n",
    "    elif building_damage.area_percentage[i] < 52:\n",
    "        area_category[j] = 3  # 42 - 51\n",
    "    elif building_damage.area_percentage[i] < 62:\n",
    "        area_category[j] = 4  # 52 - 61\n",
    "    else:\n",
    "        area_category[j] = 5  # 62 - 100\n",
    "\n",
    "    # area percentage\n",
    "    if building_damage.height_percentage[i] < 25:\n",
    "        height_category[j] = 0  # 0 - 24\n",
    "    else:\n",
    "        height_category[j] = 1  # 25+\n",
    "\n",
    "    j = j + 1\n",
    "\n",
    "building_damage.loc[:, \"age_category\"] = age_category\n",
    "building_damage.loc[:, \"area_category\"] = area_category\n",
    "building_damage.loc[:, \"height_category\"] = height_category\n",
    "\n",
    "building_damage = building_damage.drop(columns=\"age\")\n",
    "building_damage = building_damage.drop(columns=\"area_percentage\")\n",
    "building_damage = building_damage.drop(columns=\"height_percentage\")"
   ]
  },
  {
   "cell_type": "code",
   "execution_count": 49,
   "id": "ec9f8f31",
   "metadata": {},
   "outputs": [],
   "source": [
    "#categorical features\n",
    "cat_feats = ['land_surface_condition', 'foundation_type', 'roof_type',\n",
    "       'ground_floor_type', 'other_floor_type', 'position','legal_ownership_status',\n",
    "       'plan_configuration']"
   ]
  },
  {
   "cell_type": "code",
   "execution_count": 50,
   "id": "93c3e4e7",
   "metadata": {},
   "outputs": [],
   "source": [
    "#get rid of dummies instances\n",
    "train_final = pd.get_dummies(building_damage, columns=cat_feats,drop_first=True)\n",
    "test_final = pd.get_dummies(test_labels,columns=cat_feats,drop_first=True)"
   ]
  },
  {
   "cell_type": "code",
   "execution_count": 51,
   "id": "04b176f4",
   "metadata": {},
   "outputs": [],
   "source": [
    "#set y_train equal to the damage grade in training set\n",
    "y_train=train_final.damage_grade\n",
    "#set train equal to the rest of the attributes besides damage_grade in training set\n",
    "train=train_final.drop('damage_grade',axis=1)"
   ]
  },
  {
   "cell_type": "code",
   "execution_count": 52,
   "id": "58880b1c",
   "metadata": {},
   "outputs": [],
   "source": [
    "#set X equal to the rest of the attributes besides damage_grade in the training set\n",
    "X = train_final.drop('damage_grade',axis=1)\n",
    "#set y equal to the damage grade in training set\n",
    "y = train_final['damage_grade']"
   ]
  },
  {
   "cell_type": "code",
   "execution_count": 53,
   "id": "ed0b73a3",
   "metadata": {},
   "outputs": [],
   "source": [
    "#split training set into a training and a test set\n",
    "X_train,X_test,y_train,y_test = train_test_split(X,y,test_size=0.25,random_state=5)"
   ]
  },
  {
   "cell_type": "code",
   "execution_count": 54,
   "id": "afde1978",
   "metadata": {},
   "outputs": [],
   "source": [
    "#Scale features\n",
    "from sklearn.preprocessing import StandardScaler\n",
    "sc = StandardScaler()\n",
    "X_train = sc.fit_transform(X_train)\n",
    "X_test = sc.transform(X_test)"
   ]
  },
  {
   "cell_type": "code",
   "execution_count": 55,
   "id": "456895e8",
   "metadata": {},
   "outputs": [
    {
     "data": {
      "text/plain": [
       "DecisionTreeClassifier()"
      ]
     },
     "execution_count": 55,
     "metadata": {},
     "output_type": "execute_result"
    }
   ],
   "source": [
    "#create decision tree and model\n",
    "dtree = DecisionTreeClassifier()\n",
    "y_train = list(y_train)\n",
    "dtree.fit(X_train,y_train)"
   ]
  },
  {
   "cell_type": "code",
   "execution_count": 56,
   "id": "b40a34df",
   "metadata": {},
   "outputs": [],
   "source": [
    "#make predictions of model\n",
    "predictions = dtree.predict(X_test)"
   ]
  },
  {
   "cell_type": "code",
   "execution_count": 57,
   "id": "b114a8d4",
   "metadata": {},
   "outputs": [
    {
     "name": "stdout",
     "output_type": "stream",
     "text": [
      "              precision    recall  f1-score   support\n",
      "\n",
      "           1       0.48      0.49      0.48      5079\n",
      "           2       0.71      0.69      0.70     29569\n",
      "           3       0.60      0.61      0.60     17195\n",
      "\n",
      "    accuracy                           0.65     51843\n",
      "   macro avg       0.60      0.60      0.60     51843\n",
      "weighted avg       0.65      0.65      0.65     51843\n",
      "\n"
     ]
    }
   ],
   "source": [
    "#get detailed report of results\n",
    "report = classification_report(y_test,predictions)\n",
    "print(report)"
   ]
  },
  {
   "cell_type": "code",
   "execution_count": 58,
   "id": "cf02d83b",
   "metadata": {},
   "outputs": [
    {
     "name": "stdout",
     "output_type": "stream",
     "text": [
      "Accuracy:  0.6466446771984646\n",
      "F1_score:  0.6466446771984646\n"
     ]
    }
   ],
   "source": [
    "print('Accuracy: ', accuracy_score(y_test,predictions))\n",
    "print('F1_score: ', f1_score(y_test,predictions, average='micro'))"
   ]
  },
  {
   "cell_type": "code",
   "execution_count": 59,
   "id": "37f31e6e",
   "metadata": {},
   "outputs": [],
   "source": [
    "#clean test set\n",
    "test_values_subset = test_labels.drop(columns=\"has_secondary_use\")              #  included among other has_secondary_use\n",
    "test_values_subset = test_values_subset.drop(columns=\"has_secondary_use_institution\")  #  244 1's\n",
    "test_values_subset = test_values_subset.drop(columns=\"has_secondary_use_school\")       #   94 1's\n",
    "test_values_subset = test_values_subset.drop(columns=\"has_secondary_use_industry\")     #  279 1's\n",
    "test_values_subset = test_values_subset.drop(columns=\"has_secondary_use_health_post\")  #   49 1's\n",
    "test_values_subset = test_values_subset.drop(columns=\"has_secondary_use_gov_office\")   #   38 1's\n",
    "test_values_subset = test_values_subset.drop(columns=\"has_secondary_use_use_police\")   #   23 1's\n",
    "test_values_subset = test_values_subset.drop(columns=\"has_secondary_use_other\")        #  other has no clear relationship with damage_grade\n",
    "test_values_subset = test_values_subset.drop(columns=\"has_superstructure_other\")"
   ]
  },
  {
   "cell_type": "code",
   "execution_count": 60,
   "id": "2db1445a",
   "metadata": {},
   "outputs": [],
   "source": [
    "age_category_test = np.zeros(shape=(len(test_values_subset), 1))\n",
    "area_category_test = np.zeros(shape=(len(test_values_subset), 1))\n",
    "height_category_test = np.zeros(shape=(len(test_values_subset), 1))\n",
    "j = 0\n",
    "for i in test_values_subset.index:\n",
    "\n",
    "    # age\n",
    "    if test_values_subset.age[i] < 10:\n",
    "        age_category_test[j] = 0  # 0 - 9\n",
    "    elif test_values_subset.age[i] < 20:\n",
    "        age_category_test[j] = 1  # 10 - 19\n",
    "    elif test_values_subset.age[i] < 50:\n",
    "        age_category_test[j] = 2  # 20 - 49\n",
    "    elif test_values_subset.age[i] < 75:\n",
    "        age_category_test[j] = 3  # 50 - 74\n",
    "    elif test_values_subset.age[i] < 125:\n",
    "        age_category_test[j] = 4  # 75 - 124\n",
    "    else:\n",
    "        age_category_test[j] = 5  # 125+\n",
    "\n",
    "    # area_percentage\n",
    "    if test_values_subset.area_percentage[i] < 15:\n",
    "        area_category_test[j] = 0  # 0 - 14\n",
    "    elif test_values_subset.area_percentage[i] < 32:\n",
    "        area_category_test[j] = 1  # 15 - 32\n",
    "    elif test_values_subset.area_percentage[i] < 42:\n",
    "        area_category_test[j] = 2  # 33 - 41\n",
    "    elif test_values_subset.area_percentage[i] < 52:\n",
    "        area_category_test[j] = 3  # 42 - 51\n",
    "    elif test_values_subset.area_percentage[i] < 62:\n",
    "        area_category_test[j] = 4  # 52 - 61\n",
    "    else:\n",
    "        area_category[j] = 5  # 62 - 100\n",
    "\n",
    "    # area percentage\n",
    "    if test_values_subset.height_percentage[i] < 25:\n",
    "        height_category[j] = 0  # 0 - 24\n",
    "    else:\n",
    "        height_category[j] = 1  # 25+\n",
    "\n",
    "    j = j + 1\n",
    "\n",
    "test_values_subset.loc[:, \"age_category\"] = age_category_test\n",
    "test_values_subset.loc[:, \"area_category\"] = area_category_test\n",
    "test_values_subset.loc[:, \"height_category\"] = height_category_test\n",
    "\n",
    "test_values_subset = test_values_subset.drop(columns=\"age\")\n",
    "test_values_subset = test_values_subset.drop(columns=\"area_percentage\")\n",
    "test_values_subset = test_values_subset.drop(columns=\"height_percentage\")\n",
    "\n",
    "test_final = pd.get_dummies(test_values_subset,columns=cat_feats,drop_first=True)"
   ]
  },
  {
   "cell_type": "code",
   "execution_count": 61,
   "id": "1743fae8",
   "metadata": {},
   "outputs": [
    {
     "name": "stdout",
     "output_type": "stream",
     "text": [
      "[3 3 3 ... 3 3 3]\n"
     ]
    }
   ],
   "source": [
    "#make predictions\n",
    "\n",
    "test_predict = dtree.predict(test_final.values)\n",
    "print(test_predict)"
   ]
  },
  {
   "cell_type": "code",
   "execution_count": 62,
   "id": "40608329",
   "metadata": {},
   "outputs": [
    {
     "name": "stdout",
     "output_type": "stream",
     "text": [
      "             damage_grade\n",
      "building_id              \n",
      "300051                  1\n",
      "99355                   1\n",
      "890251                  1\n",
      "745817                  1\n",
      "421793                  1\n",
      "...                   ...\n",
      "310028                  1\n",
      "663567                  1\n",
      "1049160                 1\n",
      "442785                  1\n",
      "501372                  1\n",
      "\n",
      "[86868 rows x 1 columns]\n"
     ]
    }
   ],
   "source": [
    "#create submission\n",
    "submission_format = pd.read_csv('submission_format.csv', index_col='building_id')\n",
    "print(submission_format)"
   ]
  },
  {
   "cell_type": "code",
   "execution_count": 63,
   "id": "803ecd27",
   "metadata": {},
   "outputs": [],
   "source": [
    "my_submission = pd.DataFrame(data=test_predict,\n",
    "                             columns=submission_format.columns,\n",
    "                             index=submission_format.index)"
   ]
  },
  {
   "cell_type": "code",
   "execution_count": 64,
   "id": "d5a3ca1b",
   "metadata": {},
   "outputs": [
    {
     "data": {
      "text/html": [
       "<div>\n",
       "<style scoped>\n",
       "    .dataframe tbody tr th:only-of-type {\n",
       "        vertical-align: middle;\n",
       "    }\n",
       "\n",
       "    .dataframe tbody tr th {\n",
       "        vertical-align: top;\n",
       "    }\n",
       "\n",
       "    .dataframe thead th {\n",
       "        text-align: right;\n",
       "    }\n",
       "</style>\n",
       "<table border=\"1\" class=\"dataframe\">\n",
       "  <thead>\n",
       "    <tr style=\"text-align: right;\">\n",
       "      <th></th>\n",
       "      <th>damage_grade</th>\n",
       "    </tr>\n",
       "    <tr>\n",
       "      <th>building_id</th>\n",
       "      <th></th>\n",
       "    </tr>\n",
       "  </thead>\n",
       "  <tbody>\n",
       "    <tr>\n",
       "      <th>300051</th>\n",
       "      <td>3</td>\n",
       "    </tr>\n",
       "    <tr>\n",
       "      <th>99355</th>\n",
       "      <td>3</td>\n",
       "    </tr>\n",
       "    <tr>\n",
       "      <th>890251</th>\n",
       "      <td>3</td>\n",
       "    </tr>\n",
       "    <tr>\n",
       "      <th>745817</th>\n",
       "      <td>3</td>\n",
       "    </tr>\n",
       "    <tr>\n",
       "      <th>421793</th>\n",
       "      <td>3</td>\n",
       "    </tr>\n",
       "  </tbody>\n",
       "</table>\n",
       "</div>"
      ],
      "text/plain": [
       "             damage_grade\n",
       "building_id              \n",
       "300051                  3\n",
       "99355                   3\n",
       "890251                  3\n",
       "745817                  3\n",
       "421793                  3"
      ]
     },
     "execution_count": 64,
     "metadata": {},
     "output_type": "execute_result"
    }
   ],
   "source": [
    "my_submission.head()"
   ]
  },
  {
   "cell_type": "code",
   "execution_count": 65,
   "id": "f0e983b9",
   "metadata": {},
   "outputs": [],
   "source": [
    "my_submission.to_csv('submission.csv')"
   ]
  }
 ],
 "metadata": {
  "kernelspec": {
   "display_name": "Python 3 (ipykernel)",
   "language": "python",
   "name": "python3"
  },
  "language_info": {
   "codemirror_mode": {
    "name": "ipython",
    "version": 3
   },
   "file_extension": ".py",
   "mimetype": "text/x-python",
   "name": "python",
   "nbconvert_exporter": "python",
   "pygments_lexer": "ipython3",
   "version": "3.9.13"
  }
 },
 "nbformat": 4,
 "nbformat_minor": 5
}
